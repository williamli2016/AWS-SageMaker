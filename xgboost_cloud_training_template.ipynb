{
 "cells": [
  {
   "cell_type": "code",
   "execution_count": 1,
   "id": "80cdbb73",
   "metadata": {},
   "outputs": [],
   "source": [
    "import numpy as np\n",
    "import pandas as pd\n",
    "import boto3\n",
    "import re\n",
    "import sagemaker\n",
    "from sagemaker import get_execution_role"
   ]
  },
  {
   "cell_type": "markdown",
   "id": "22579e11",
   "metadata": {},
   "source": [
    "## Upload Data to S3"
   ]
  },
  {
   "cell_type": "code",
   "execution_count": 33,
   "id": "f9c4d0f2",
   "metadata": {},
   "outputs": [],
   "source": [
    "bucket_name = \"williamli-ml-sagemaker\"  ## sagemaker s3 bucket name\n",
    "\n",
    "training_folder = r\"heart_disease/training/\"\n",
    "validation_folder = r\"heart_disease/validation/\"\n",
    "testing_folder = r\"heart_disease/testing/\"\n",
    "\n",
    "s3_model_output_location = r\"s3://{0}/heart_disease/model\".format(bucket_name)\n",
    "s3_training_file_location = r\"s3://{0}/{1}\".format(bucket_name, training_folder)\n",
    "s3_validation_file_location = r\"s3://{0}/{1}\".format(bucket_name, validation_folder)"
   ]
  },
  {
   "cell_type": "code",
   "execution_count": 3,
   "id": "5711bd03",
   "metadata": {},
   "outputs": [
    {
     "name": "stdout",
     "output_type": "stream",
     "text": [
      "s3://williamli-ml-sagemaker/heart_disease/model\n",
      "s3://williamli-ml-sagemaker/heart_disease/training/\n",
      "s3://williamli-ml-sagemaker/heart_disease/validation/\n"
     ]
    }
   ],
   "source": [
    "print(s3_model_output_location)\n",
    "print(s3_training_file_location)\n",
    "print(s3_validation_file_location)"
   ]
  },
  {
   "cell_type": "code",
   "execution_count": 4,
   "id": "52e3b223",
   "metadata": {},
   "outputs": [],
   "source": [
    "def write_to_s3(filename, bucket, key):\n",
    "    with open(filename, 'rb') as f:\n",
    "        return boto3.Session().resource('s3').Bucket(bucket).Object(key).upload_fileobj(f)"
   ]
  },
  {
   "cell_type": "code",
   "execution_count": 5,
   "id": "b61a8cc9",
   "metadata": {},
   "outputs": [],
   "source": [
    "write_to_s3(\"train_data.csv\", bucket_name, training_folder + \"heart_disease_train.csv\")\n",
    "write_to_s3(\"validation_data.csv\", bucket_name, validation_folder + \"heart_disease_validation.csv\")"
   ]
  },
  {
   "cell_type": "code",
   "execution_count": 34,
   "id": "7f556b51",
   "metadata": {},
   "outputs": [],
   "source": [
    "write_to_s3(\"test_data.csv\", bucket_name, testing_folder + \"heart_disease_test.csv\")"
   ]
  },
  {
   "cell_type": "markdown",
   "id": "53573c3e",
   "metadata": {},
   "source": [
    "## Set up Training Docker Image"
   ]
  },
  {
   "cell_type": "code",
   "execution_count": 6,
   "id": "7201d21a",
   "metadata": {},
   "outputs": [
    {
     "name": "stdout",
     "output_type": "stream",
     "text": [
      "Checkpoint uri: s3://williamli-ml-sagemaker/heart_disease/checkpoints/xgboost-heart-disease-v1\n"
     ]
    }
   ],
   "source": [
    "use_spot_instance = True\n",
    "max_run = 3600\n",
    "max_wait = 7200 if use_spot_instance else None\n",
    "\n",
    "job_name = \"xgboost-heart-disease-v1\"\n",
    "\n",
    "checkpoint_s3_uri = None\n",
    "\n",
    "if use_spot_instance:\n",
    "    checkpoint_s3_uri = f\"s3://{bucket_name}/heart_disease/checkpoints/{job_name}\"\n",
    "    \n",
    "print(f\"Checkpoint uri: {checkpoint_s3_uri}\")"
   ]
  },
  {
   "cell_type": "code",
   "execution_count": 7,
   "id": "15e18626",
   "metadata": {},
   "outputs": [],
   "source": [
    "# establish a session with AWS\n",
    "sess = sagemaker.Session()"
   ]
  },
  {
   "cell_type": "code",
   "execution_count": 8,
   "id": "4a654706",
   "metadata": {},
   "outputs": [],
   "source": [
    "role = get_execution_role()"
   ]
  },
  {
   "cell_type": "code",
   "execution_count": 9,
   "id": "95a53f03",
   "metadata": {},
   "outputs": [
    {
     "name": "stdout",
     "output_type": "stream",
     "text": [
      "arn:aws:iam::432449956699:role/service-role/AmazonSageMaker-ExecutionRole-20220104T104116\n"
     ]
    }
   ],
   "source": [
    "print(role)"
   ]
  },
  {
   "cell_type": "code",
   "execution_count": 10,
   "id": "a8d3380f",
   "metadata": {},
   "outputs": [
    {
     "name": "stdout",
     "output_type": "stream",
     "text": [
      "Using XGBoost Container 683313688378.dkr.ecr.us-east-1.amazonaws.com/sagemaker-xgboost:1.2-2\n"
     ]
    }
   ],
   "source": [
    "container = sagemaker.image_uris.retrieve(\"xgboost\",\n",
    "                                          sess.boto_region_name,\n",
    "                                          version=\"1.2-2\")\n",
    "print(f\"Using XGBoost Container {container}\")"
   ]
  },
  {
   "cell_type": "markdown",
   "id": "43c0901a",
   "metadata": {},
   "source": [
    "## Build Model"
   ]
  },
  {
   "cell_type": "code",
   "execution_count": 11,
   "id": "8572a86c",
   "metadata": {},
   "outputs": [],
   "source": [
    "estimator = sagemaker.estimator.Estimator(\n",
    "    container,\n",
    "    role,\n",
    "    instance_count=1,\n",
    "    instance_type='ml.m5.xlarge',\n",
    "    output_path=s3_model_output_location,\n",
    "    sagemaker_session=sess,\n",
    "    base_job_name=job_name,\n",
    "    use_spot_instances=use_spot_instance,\n",
    "    max_run=max_run,\n",
    "    max_wait=max_wait,\n",
    "    checkpoint_s3_uri=checkpoint_s3_uri\n",
    ")"
   ]
  },
  {
   "cell_type": "code",
   "execution_count": 12,
   "id": "4a132f2e",
   "metadata": {},
   "outputs": [],
   "source": [
    "estimator.set_hyperparameters(max_depth=5,\n",
    "                              objective=\"binary:hinge\",\n",
    "                              num_round=150)"
   ]
  },
  {
   "cell_type": "code",
   "execution_count": 13,
   "id": "29e7a311",
   "metadata": {},
   "outputs": [
    {
     "data": {
      "text/plain": [
       "{'max_depth': 5, 'objective': 'binary:hinge', 'num_round': 150}"
      ]
     },
     "execution_count": 13,
     "metadata": {},
     "output_type": "execute_result"
    }
   ],
   "source": [
    "estimator.hyperparameters()"
   ]
  },
  {
   "cell_type": "code",
   "execution_count": 14,
   "id": "ec05fe87",
   "metadata": {},
   "outputs": [],
   "source": [
    "# specify training data location and validation data location\n",
    "training_input_config = sagemaker.session.TrainingInput(\n",
    "    s3_data=s3_training_file_location,\n",
    "    content_type=\"csv\",\n",
    "    s3_data_type=\"S3Prefix\"\n",
    ")\n",
    "\n",
    "validation_input_config = sagemaker.session.TrainingInput(\n",
    "    s3_data=s3_validation_file_location,\n",
    "    content_type=\"csv\",\n",
    "    s3_data_type=\"S3Prefix\"\n",
    ")\n",
    "\n",
    "data_channels = {\"train\": training_input_config, \"validation\": validation_input_config}"
   ]
  },
  {
   "cell_type": "code",
   "execution_count": 15,
   "id": "e31bab7f",
   "metadata": {},
   "outputs": [
    {
     "name": "stdout",
     "output_type": "stream",
     "text": [
      "{'DataSource': {'S3DataSource': {'S3DataType': 'S3Prefix', 'S3Uri': 's3://williamli-ml-sagemaker/heart_disease/training/', 'S3DataDistributionType': 'FullyReplicated'}}, 'ContentType': 'csv'}\n",
      "{'DataSource': {'S3DataSource': {'S3DataType': 'S3Prefix', 'S3Uri': 's3://williamli-ml-sagemaker/heart_disease/validation/', 'S3DataDistributionType': 'FullyReplicated'}}, 'ContentType': 'csv'}\n"
     ]
    }
   ],
   "source": [
    "print(training_input_config.config)\n",
    "print(validation_input_config.config)"
   ]
  },
  {
   "cell_type": "code",
   "execution_count": 16,
   "id": "392fe274",
   "metadata": {},
   "outputs": [
    {
     "name": "stdout",
     "output_type": "stream",
     "text": [
      "2022-04-03 19:48:45 Starting - Starting the training job...\n",
      "2022-04-03 19:49:09 Starting - Launching requested ML instancesProfilerReport-1649015325: InProgress\n",
      ".........\n",
      "2022-04-03 19:50:29 Starting - Preparing the instances for training...\n",
      "2022-04-03 19:51:14 Downloading - Downloading input data...\n",
      "2022-04-03 19:51:30 Training - Downloading the training image...\n",
      "2022-04-03 19:52:09 Training - Training image download completed. Training in progress..\u001b[34m[2022-04-03 19:52:08.493 ip-10-2-226-211.ec2.internal:1 INFO utils.py:27] RULE_JOB_STOP_SIGNAL_FILENAME: None\u001b[0m\n",
      "\u001b[34m[2022-04-03:19:52:08:INFO] Imported framework sagemaker_xgboost_container.training\u001b[0m\n",
      "\u001b[34m[2022-04-03:19:52:08:INFO] Failed to parse hyperparameter objective value binary:hinge to Json.\u001b[0m\n",
      "\u001b[34mReturning the value itself\u001b[0m\n",
      "\u001b[34m[2022-04-03:19:52:08:INFO] No GPUs detected (normal if no gpus installed)\u001b[0m\n",
      "\u001b[34m[2022-04-03:19:52:08:INFO] Running XGBoost Sagemaker in algorithm mode\u001b[0m\n",
      "\u001b[34m[2022-04-03:19:52:08:INFO] Determined delimiter of CSV input is ','\u001b[0m\n",
      "\u001b[34m[2022-04-03:19:52:08:INFO] Determined delimiter of CSV input is ','\u001b[0m\n",
      "\u001b[34m[2022-04-03:19:52:08:INFO] Determined delimiter of CSV input is ','\u001b[0m\n",
      "\u001b[34m[2022-04-03:19:52:08:INFO] Determined delimiter of CSV input is ','\u001b[0m\n",
      "\u001b[34m[2022-04-03:19:52:09:INFO] Single node training.\u001b[0m\n",
      "\u001b[34m[2022-04-03:19:52:09:INFO] Train matrix has 409390 rows and 17 columns\u001b[0m\n",
      "\u001b[34m[2022-04-03:19:52:09:INFO] Validation matrix has 175454 rows\u001b[0m\n",
      "\u001b[34m[0]#011train-error:0.49986#011validation-error:0.50033\u001b[0m\n",
      "\u001b[34m[1]#011train-error:0.49986#011validation-error:0.50033\u001b[0m\n",
      "\u001b[34m[2]#011train-error:0.29688#011validation-error:0.29637\u001b[0m\n",
      "\u001b[34m[3]#011train-error:0.27945#011validation-error:0.27936\u001b[0m\n",
      "\u001b[34m[4]#011train-error:0.26717#011validation-error:0.26717\u001b[0m\n",
      "\u001b[34m[5]#011train-error:0.25933#011validation-error:0.25969\u001b[0m\n",
      "\u001b[34m[6]#011train-error:0.25798#011validation-error:0.25782\u001b[0m\n",
      "\u001b[34m[7]#011train-error:0.25468#011validation-error:0.25461\u001b[0m\n",
      "\u001b[34m[8]#011train-error:0.25255#011validation-error:0.25302\u001b[0m\n",
      "\u001b[34m[9]#011train-error:0.25252#011validation-error:0.25293\u001b[0m\n",
      "\u001b[34m[10]#011train-error:0.25275#011validation-error:0.25313\u001b[0m\n",
      "\u001b[34m[11]#011train-error:0.25268#011validation-error:0.25285\u001b[0m\n",
      "\u001b[34m[12]#011train-error:0.25244#011validation-error:0.25270\u001b[0m\n",
      "\u001b[34m[13]#011train-error:0.25234#011validation-error:0.25278\u001b[0m\n",
      "\u001b[34m[14]#011train-error:0.25197#011validation-error:0.25220\u001b[0m\n",
      "\u001b[34m[15]#011train-error:0.25192#011validation-error:0.25200\u001b[0m\n",
      "\u001b[34m[16]#011train-error:0.25157#011validation-error:0.25187\u001b[0m\n",
      "\u001b[34m[17]#011train-error:0.25161#011validation-error:0.25185\u001b[0m\n",
      "\u001b[34m[18]#011train-error:0.25161#011validation-error:0.25190\u001b[0m\n",
      "\u001b[34m[19]#011train-error:0.25148#011validation-error:0.25172\u001b[0m\n",
      "\u001b[34m[20]#011train-error:0.25147#011validation-error:0.25166\u001b[0m\n",
      "\u001b[34m[21]#011train-error:0.25099#011validation-error:0.25122\u001b[0m\n",
      "\u001b[34m[22]#011train-error:0.25107#011validation-error:0.25120\u001b[0m\n",
      "\u001b[34m[23]#011train-error:0.24793#011validation-error:0.24809\u001b[0m\n",
      "\u001b[34m[24]#011train-error:0.24793#011validation-error:0.24813\u001b[0m\n",
      "\u001b[34m[25]#011train-error:0.24709#011validation-error:0.24720\u001b[0m\n",
      "\u001b[34m[26]#011train-error:0.24691#011validation-error:0.24702\u001b[0m\n",
      "\u001b[34m[27]#011train-error:0.24629#011validation-error:0.24663\u001b[0m\n",
      "\u001b[34m[28]#011train-error:0.24602#011validation-error:0.24640\u001b[0m\n",
      "\u001b[34m[29]#011train-error:0.24620#011validation-error:0.24640\u001b[0m\n",
      "\u001b[34m[30]#011train-error:0.24623#011validation-error:0.24649\u001b[0m\n",
      "\u001b[34m[31]#011train-error:0.24617#011validation-error:0.24642\u001b[0m\n",
      "\u001b[34m[32]#011train-error:0.24545#011validation-error:0.24584\u001b[0m\n",
      "\u001b[34m[33]#011train-error:0.24568#011validation-error:0.24625\u001b[0m\n",
      "\u001b[34m[34]#011train-error:0.24607#011validation-error:0.24663\u001b[0m\n",
      "\u001b[34m[35]#011train-error:0.24519#011validation-error:0.24573\u001b[0m\n",
      "\u001b[34m[36]#011train-error:0.24517#011validation-error:0.24572\u001b[0m\n",
      "\u001b[34m[37]#011train-error:0.24571#011validation-error:0.24614\u001b[0m\n",
      "\u001b[34m[38]#011train-error:0.24516#011validation-error:0.24566\u001b[0m\n",
      "\u001b[34m[39]#011train-error:0.24515#011validation-error:0.24568\u001b[0m\n",
      "\u001b[34m[40]#011train-error:0.24496#011validation-error:0.24557\u001b[0m\n",
      "\u001b[34m[41]#011train-error:0.24474#011validation-error:0.24521\u001b[0m\n",
      "\u001b[34m[42]#011train-error:0.24404#011validation-error:0.24473\u001b[0m\n",
      "\u001b[34m[43]#011train-error:0.24392#011validation-error:0.24467\u001b[0m\n",
      "\u001b[34m[44]#011train-error:0.24391#011validation-error:0.24471\u001b[0m\n",
      "\u001b[34m[45]#011train-error:0.24403#011validation-error:0.24461\u001b[0m\n",
      "\u001b[34m[46]#011train-error:0.24397#011validation-error:0.24455\u001b[0m\n",
      "\u001b[34m[47]#011train-error:0.24316#011validation-error:0.24413\u001b[0m\n",
      "\u001b[34m[48]#011train-error:0.24266#011validation-error:0.24400\u001b[0m\n",
      "\u001b[34m[49]#011train-error:0.24263#011validation-error:0.24390\u001b[0m\n",
      "\u001b[34m[50]#011train-error:0.24233#011validation-error:0.24347\u001b[0m\n",
      "\u001b[34m[51]#011train-error:0.24184#011validation-error:0.24302\u001b[0m\n",
      "\u001b[34m[52]#011train-error:0.24163#011validation-error:0.24284\u001b[0m\n",
      "\u001b[34m[53]#011train-error:0.24113#011validation-error:0.24226\u001b[0m\n",
      "\u001b[34m[54]#011train-error:0.24138#011validation-error:0.24259\u001b[0m\n",
      "\u001b[34m[55]#011train-error:0.24168#011validation-error:0.24279\u001b[0m\n",
      "\u001b[34m[56]#011train-error:0.24197#011validation-error:0.24321\u001b[0m\n",
      "\u001b[34m[57]#011train-error:0.24164#011validation-error:0.24269\u001b[0m\n",
      "\u001b[34m[58]#011train-error:0.24140#011validation-error:0.24242\u001b[0m\n",
      "\u001b[34m[59]#011train-error:0.24147#011validation-error:0.24246\u001b[0m\n",
      "\u001b[34m[60]#011train-error:0.24162#011validation-error:0.24256\u001b[0m\n",
      "\u001b[34m[61]#011train-error:0.24100#011validation-error:0.24203\u001b[0m\n",
      "\u001b[34m[62]#011train-error:0.24038#011validation-error:0.24148\u001b[0m\n",
      "\u001b[34m[63]#011train-error:0.24056#011validation-error:0.24152\u001b[0m\n",
      "\u001b[34m[64]#011train-error:0.24039#011validation-error:0.24140\u001b[0m\n",
      "\u001b[34m[65]#011train-error:0.24031#011validation-error:0.24145\u001b[0m\n",
      "\u001b[34m[66]#011train-error:0.24018#011validation-error:0.24146\u001b[0m\n",
      "\u001b[34m[67]#011train-error:0.24013#011validation-error:0.24135\u001b[0m\n",
      "\u001b[34m[68]#011train-error:0.24001#011validation-error:0.24131\u001b[0m\n",
      "\u001b[34m[69]#011train-error:0.24010#011validation-error:0.24129\u001b[0m\n",
      "\u001b[34m[70]#011train-error:0.23987#011validation-error:0.24118\u001b[0m\n",
      "\u001b[34m[71]#011train-error:0.23980#011validation-error:0.24108\u001b[0m\n",
      "\u001b[34m[72]#011train-error:0.23966#011validation-error:0.24080\u001b[0m\n",
      "\u001b[34m[73]#011train-error:0.23879#011validation-error:0.24043\u001b[0m\n",
      "\u001b[34m[74]#011train-error:0.23840#011validation-error:0.24009\u001b[0m\n",
      "\u001b[34m[75]#011train-error:0.23827#011validation-error:0.24003\u001b[0m\n",
      "\u001b[34m[76]#011train-error:0.23865#011validation-error:0.24038\u001b[0m\n",
      "\u001b[34m[77]#011train-error:0.23796#011validation-error:0.23986\u001b[0m\n",
      "\u001b[34m[78]#011train-error:0.23782#011validation-error:0.23979\u001b[0m\n",
      "\u001b[34m[79]#011train-error:0.23772#011validation-error:0.23977\u001b[0m\n",
      "\u001b[34m[80]#011train-error:0.23767#011validation-error:0.23968\u001b[0m\n",
      "\u001b[34m[81]#011train-error:0.23766#011validation-error:0.23967\u001b[0m\n",
      "\u001b[34m[82]#011train-error:0.23796#011validation-error:0.24000\u001b[0m\n",
      "\u001b[34m[83]#011train-error:0.23743#011validation-error:0.23954\u001b[0m\n",
      "\u001b[34m[84]#011train-error:0.23738#011validation-error:0.23934\u001b[0m\n",
      "\u001b[34m[85]#011train-error:0.23740#011validation-error:0.23929\u001b[0m\n",
      "\u001b[34m[86]#011train-error:0.23699#011validation-error:0.23887\u001b[0m\n",
      "\u001b[34m[87]#011train-error:0.23725#011validation-error:0.23901\u001b[0m\n",
      "\u001b[34m[88]#011train-error:0.23723#011validation-error:0.23889\u001b[0m\n",
      "\u001b[34m[89]#011train-error:0.23710#011validation-error:0.23905\u001b[0m\n",
      "\u001b[34m[90]#011train-error:0.23659#011validation-error:0.23836\u001b[0m\n",
      "\u001b[34m[91]#011train-error:0.23618#011validation-error:0.23787\u001b[0m\n",
      "\u001b[34m[92]#011train-error:0.23593#011validation-error:0.23789\u001b[0m\n",
      "\u001b[34m[93]#011train-error:0.23577#011validation-error:0.23770\u001b[0m\n",
      "\u001b[34m[94]#011train-error:0.23515#011validation-error:0.23700\u001b[0m\n",
      "\u001b[34m[95]#011train-error:0.23508#011validation-error:0.23692\u001b[0m\n",
      "\u001b[34m[96]#011train-error:0.23500#011validation-error:0.23685\u001b[0m\n",
      "\u001b[34m[97]#011train-error:0.23501#011validation-error:0.23691\u001b[0m\n",
      "\u001b[34m[98]#011train-error:0.23497#011validation-error:0.23674\u001b[0m\n",
      "\u001b[34m[99]#011train-error:0.23467#011validation-error:0.23640\u001b[0m\n",
      "\u001b[34m[100]#011train-error:0.23435#011validation-error:0.23644\u001b[0m\n",
      "\u001b[34m[101]#011train-error:0.23446#011validation-error:0.23640\u001b[0m\n",
      "\u001b[34m[102]#011train-error:0.23429#011validation-error:0.23639\u001b[0m\n",
      "\u001b[34m[103]#011train-error:0.23435#011validation-error:0.23636\u001b[0m\n",
      "\u001b[34m[104]#011train-error:0.23457#011validation-error:0.23667\u001b[0m\n",
      "\u001b[34m[105]#011train-error:0.23443#011validation-error:0.23640\u001b[0m\n",
      "\u001b[34m[106]#011train-error:0.23456#011validation-error:0.23659\u001b[0m\n",
      "\u001b[34m[107]#011train-error:0.23429#011validation-error:0.23645\u001b[0m\n",
      "\u001b[34m[108]#011train-error:0.23422#011validation-error:0.23637\u001b[0m\n",
      "\u001b[34m[109]#011train-error:0.23433#011validation-error:0.23639\u001b[0m\n",
      "\u001b[34m[110]#011train-error:0.23425#011validation-error:0.23623\u001b[0m\n",
      "\u001b[34m[111]#011train-error:0.23414#011validation-error:0.23605\u001b[0m\n",
      "\u001b[34m[112]#011train-error:0.23353#011validation-error:0.23546\u001b[0m\n",
      "\u001b[34m[113]#011train-error:0.23363#011validation-error:0.23553\u001b[0m\n",
      "\u001b[34m[114]#011train-error:0.23364#011validation-error:0.23540\u001b[0m\n",
      "\u001b[34m[115]#011train-error:0.23336#011validation-error:0.23514\u001b[0m\n",
      "\u001b[34m[116]#011train-error:0.23312#011validation-error:0.23484\u001b[0m\n",
      "\u001b[34m[117]#011train-error:0.23291#011validation-error:0.23443\u001b[0m\n",
      "\u001b[34m[118]#011train-error:0.23280#011validation-error:0.23453\u001b[0m\n",
      "\u001b[34m[119]#011train-error:0.23303#011validation-error:0.23473\u001b[0m\n",
      "\u001b[34m[120]#011train-error:0.23287#011validation-error:0.23451\u001b[0m\n",
      "\u001b[34m[121]#011train-error:0.23278#011validation-error:0.23446\u001b[0m\n",
      "\u001b[34m[122]#011train-error:0.23253#011validation-error:0.23415\u001b[0m\n",
      "\u001b[34m[123]#011train-error:0.23272#011validation-error:0.23435\u001b[0m\n",
      "\u001b[34m[124]#011train-error:0.23257#011validation-error:0.23416\u001b[0m\n",
      "\u001b[34m[125]#011train-error:0.23254#011validation-error:0.23419\u001b[0m\n",
      "\u001b[34m[126]#011train-error:0.23251#011validation-error:0.23394\u001b[0m\n",
      "\u001b[34m[127]#011train-error:0.23256#011validation-error:0.23403\u001b[0m\n",
      "\u001b[34m[128]#011train-error:0.23246#011validation-error:0.23410\u001b[0m\n",
      "\u001b[34m[129]#011train-error:0.23241#011validation-error:0.23415\u001b[0m\n",
      "\u001b[34m[130]#011train-error:0.23228#011validation-error:0.23398\u001b[0m\n",
      "\u001b[34m[131]#011train-error:0.23221#011validation-error:0.23402\u001b[0m\n",
      "\u001b[34m[132]#011train-error:0.23206#011validation-error:0.23393\u001b[0m\n",
      "\u001b[34m[133]#011train-error:0.23206#011validation-error:0.23382\u001b[0m\n",
      "\u001b[34m[134]#011train-error:0.23191#011validation-error:0.23374\u001b[0m\n",
      "\u001b[34m[135]#011train-error:0.23188#011validation-error:0.23364\u001b[0m\n",
      "\u001b[34m[136]#011train-error:0.23179#011validation-error:0.23343\u001b[0m\n",
      "\u001b[34m[137]#011train-error:0.23175#011validation-error:0.23336\u001b[0m\n",
      "\u001b[34m[138]#011train-error:0.23177#011validation-error:0.23345\u001b[0m\n",
      "\u001b[34m[139]#011train-error:0.23166#011validation-error:0.23327\u001b[0m\n"
     ]
    },
    {
     "name": "stdout",
     "output_type": "stream",
     "text": [
      "\n",
      "2022-04-03 19:52:46 Uploading - Uploading generated training model\u001b[34m[140]#011train-error:0.23151#011validation-error:0.23317\u001b[0m\n",
      "\u001b[34m[141]#011train-error:0.23135#011validation-error:0.23303\u001b[0m\n",
      "\u001b[34m[142]#011train-error:0.23127#011validation-error:0.23305\u001b[0m\n",
      "\u001b[34m[143]#011train-error:0.23124#011validation-error:0.23299\u001b[0m\n",
      "\u001b[34m[144]#011train-error:0.23120#011validation-error:0.23301\u001b[0m\n",
      "\u001b[34m[145]#011train-error:0.23115#011validation-error:0.23293\u001b[0m\n",
      "\u001b[34m[146]#011train-error:0.23108#011validation-error:0.23276\u001b[0m\n",
      "\u001b[34m[147]#011train-error:0.23104#011validation-error:0.23265\u001b[0m\n",
      "\u001b[34m[148]#011train-error:0.23097#011validation-error:0.23254\u001b[0m\n",
      "\u001b[34m[149]#011train-error:0.23094#011validation-error:0.23247\u001b[0m\n",
      "\n",
      "2022-04-03 19:53:10 Completed - Training job completed\n",
      "ProfilerReport-1649015325: NoIssuesFound\n",
      "Training seconds: 100\n",
      "Billable seconds: 36\n",
      "Managed Spot Training savings: 64.0%\n"
     ]
    }
   ],
   "source": [
    "# Train the model\n",
    "estimator.fit(data_channels)"
   ]
  },
  {
   "cell_type": "markdown",
   "id": "15141e5d",
   "metadata": {},
   "source": [
    "## Deploy Model"
   ]
  },
  {
   "cell_type": "code",
   "execution_count": 18,
   "id": "144b8763",
   "metadata": {
    "scrolled": true
   },
   "outputs": [
    {
     "name": "stdout",
     "output_type": "stream",
     "text": [
      "-----!"
     ]
    }
   ],
   "source": [
    "predictor = estimator.deploy(initial_instance_count=1,\n",
    "                             instance_type='ml.m5.xlarge',\n",
    "                             endpoint_name=job_name)"
   ]
  },
  {
   "cell_type": "markdown",
   "id": "25867132",
   "metadata": {},
   "source": [
    "## Evaluate Model"
   ]
  },
  {
   "cell_type": "code",
   "execution_count": 19,
   "id": "2fbfb884",
   "metadata": {},
   "outputs": [],
   "source": [
    "import sys\n",
    "import numpy as np\n",
    "import pandas as pd\n",
    "import matplotlib.pyplot as plt\n",
    "import math\n",
    "import os\n",
    "\n",
    "import boto3\n",
    "from sagemaker import get_execution_role\n",
    "import sagemaker\n",
    "from sagemaker.serializers import CSVSerializer"
   ]
  },
  {
   "cell_type": "code",
   "execution_count": 20,
   "id": "99a6c053",
   "metadata": {},
   "outputs": [],
   "source": [
    "from sklearn.metrics import log_loss, roc_auc_score, classification_report"
   ]
  },
  {
   "cell_type": "code",
   "execution_count": 21,
   "id": "ff363c65",
   "metadata": {},
   "outputs": [],
   "source": [
    "endpoint_name = \"xgboost-heart-disease-v1\"\n",
    "predictor = sagemaker.predictor.Predictor(endpoint_name=endpoint_name)"
   ]
  },
  {
   "cell_type": "code",
   "execution_count": 22,
   "id": "74555072",
   "metadata": {},
   "outputs": [],
   "source": [
    "predictor.serializer = CSVSerializer()"
   ]
  },
  {
   "cell_type": "code",
   "execution_count": 23,
   "id": "1a59a83b",
   "metadata": {},
   "outputs": [],
   "source": [
    "with open(\"train_data_column_names.txt\", 'r') as f:\n",
    "    train_col_names = f.read().split(',')"
   ]
  },
  {
   "cell_type": "code",
   "execution_count": 24,
   "id": "b0d93f4d",
   "metadata": {},
   "outputs": [
    {
     "data": {
      "text/plain": [
       "['HeartDisease',\n",
       " 'BMI',\n",
       " 'Smoking',\n",
       " 'AlcoholDrinking',\n",
       " 'Stroke',\n",
       " 'PhysicalHealth',\n",
       " 'MentalHealth',\n",
       " 'DiffWalking',\n",
       " 'Sex',\n",
       " 'AgeCategory',\n",
       " 'Race',\n",
       " 'Diabetic',\n",
       " 'PhysicalActivity',\n",
       " 'GenHealth',\n",
       " 'SleepTime',\n",
       " 'Asthma',\n",
       " 'KidneyDisease',\n",
       " 'SkinCancer']"
      ]
     },
     "execution_count": 24,
     "metadata": {},
     "output_type": "execute_result"
    }
   ],
   "source": [
    "train_col_names"
   ]
  },
  {
   "cell_type": "code",
   "execution_count": 25,
   "id": "275c572d",
   "metadata": {},
   "outputs": [],
   "source": [
    "train_df = pd.read_csv(\"train_data.csv\", names=train_col_names)\n",
    "validation_df = pd.read_csv(\"validation_data.csv\", names=train_col_names)"
   ]
  },
  {
   "cell_type": "code",
   "execution_count": 26,
   "id": "f200b22f",
   "metadata": {},
   "outputs": [
    {
     "data": {
      "text/html": [
       "<div>\n",
       "<style scoped>\n",
       "    .dataframe tbody tr th:only-of-type {\n",
       "        vertical-align: middle;\n",
       "    }\n",
       "\n",
       "    .dataframe tbody tr th {\n",
       "        vertical-align: top;\n",
       "    }\n",
       "\n",
       "    .dataframe thead th {\n",
       "        text-align: right;\n",
       "    }\n",
       "</style>\n",
       "<table border=\"1\" class=\"dataframe\">\n",
       "  <thead>\n",
       "    <tr style=\"text-align: right;\">\n",
       "      <th></th>\n",
       "      <th>HeartDisease</th>\n",
       "      <th>BMI</th>\n",
       "      <th>Smoking</th>\n",
       "      <th>AlcoholDrinking</th>\n",
       "      <th>Stroke</th>\n",
       "      <th>PhysicalHealth</th>\n",
       "      <th>MentalHealth</th>\n",
       "      <th>DiffWalking</th>\n",
       "      <th>Sex</th>\n",
       "      <th>AgeCategory</th>\n",
       "      <th>Race</th>\n",
       "      <th>Diabetic</th>\n",
       "      <th>PhysicalActivity</th>\n",
       "      <th>GenHealth</th>\n",
       "      <th>SleepTime</th>\n",
       "      <th>Asthma</th>\n",
       "      <th>KidneyDisease</th>\n",
       "      <th>SkinCancer</th>\n",
       "    </tr>\n",
       "  </thead>\n",
       "  <tbody>\n",
       "    <tr>\n",
       "      <th>0</th>\n",
       "      <td>0</td>\n",
       "      <td>21.58</td>\n",
       "      <td>1</td>\n",
       "      <td>0</td>\n",
       "      <td>0</td>\n",
       "      <td>0.0</td>\n",
       "      <td>0.0</td>\n",
       "      <td>0</td>\n",
       "      <td>0</td>\n",
       "      <td>12</td>\n",
       "      <td>5</td>\n",
       "      <td>0</td>\n",
       "      <td>0</td>\n",
       "      <td>0</td>\n",
       "      <td>9.0</td>\n",
       "      <td>0</td>\n",
       "      <td>0</td>\n",
       "      <td>0</td>\n",
       "    </tr>\n",
       "    <tr>\n",
       "      <th>1</th>\n",
       "      <td>1</td>\n",
       "      <td>28.80</td>\n",
       "      <td>1</td>\n",
       "      <td>0</td>\n",
       "      <td>0</td>\n",
       "      <td>2.0</td>\n",
       "      <td>10.0</td>\n",
       "      <td>0</td>\n",
       "      <td>1</td>\n",
       "      <td>11</td>\n",
       "      <td>5</td>\n",
       "      <td>0</td>\n",
       "      <td>1</td>\n",
       "      <td>2</td>\n",
       "      <td>6.0</td>\n",
       "      <td>0</td>\n",
       "      <td>0</td>\n",
       "      <td>0</td>\n",
       "    </tr>\n",
       "    <tr>\n",
       "      <th>2</th>\n",
       "      <td>0</td>\n",
       "      <td>24.41</td>\n",
       "      <td>1</td>\n",
       "      <td>0</td>\n",
       "      <td>0</td>\n",
       "      <td>0.0</td>\n",
       "      <td>0.0</td>\n",
       "      <td>0</td>\n",
       "      <td>1</td>\n",
       "      <td>12</td>\n",
       "      <td>5</td>\n",
       "      <td>0</td>\n",
       "      <td>1</td>\n",
       "      <td>2</td>\n",
       "      <td>8.0</td>\n",
       "      <td>0</td>\n",
       "      <td>0</td>\n",
       "      <td>1</td>\n",
       "    </tr>\n",
       "    <tr>\n",
       "      <th>3</th>\n",
       "      <td>1</td>\n",
       "      <td>37.25</td>\n",
       "      <td>1</td>\n",
       "      <td>0</td>\n",
       "      <td>0</td>\n",
       "      <td>0.0</td>\n",
       "      <td>0.0</td>\n",
       "      <td>0</td>\n",
       "      <td>1</td>\n",
       "      <td>9</td>\n",
       "      <td>5</td>\n",
       "      <td>0</td>\n",
       "      <td>0</td>\n",
       "      <td>2</td>\n",
       "      <td>8.0</td>\n",
       "      <td>0</td>\n",
       "      <td>0</td>\n",
       "      <td>0</td>\n",
       "    </tr>\n",
       "    <tr>\n",
       "      <th>4</th>\n",
       "      <td>0</td>\n",
       "      <td>24.48</td>\n",
       "      <td>1</td>\n",
       "      <td>0</td>\n",
       "      <td>0</td>\n",
       "      <td>1.0</td>\n",
       "      <td>0.0</td>\n",
       "      <td>0</td>\n",
       "      <td>1</td>\n",
       "      <td>7</td>\n",
       "      <td>5</td>\n",
       "      <td>0</td>\n",
       "      <td>1</td>\n",
       "      <td>4</td>\n",
       "      <td>7.0</td>\n",
       "      <td>0</td>\n",
       "      <td>0</td>\n",
       "      <td>0</td>\n",
       "    </tr>\n",
       "  </tbody>\n",
       "</table>\n",
       "</div>"
      ],
      "text/plain": [
       "   HeartDisease    BMI  Smoking  AlcoholDrinking  Stroke  PhysicalHealth  \\\n",
       "0             0  21.58        1                0       0             0.0   \n",
       "1             1  28.80        1                0       0             2.0   \n",
       "2             0  24.41        1                0       0             0.0   \n",
       "3             1  37.25        1                0       0             0.0   \n",
       "4             0  24.48        1                0       0             1.0   \n",
       "\n",
       "   MentalHealth  DiffWalking  Sex  AgeCategory  Race  Diabetic  \\\n",
       "0           0.0            0    0           12     5         0   \n",
       "1          10.0            0    1           11     5         0   \n",
       "2           0.0            0    1           12     5         0   \n",
       "3           0.0            0    1            9     5         0   \n",
       "4           0.0            0    1            7     5         0   \n",
       "\n",
       "   PhysicalActivity  GenHealth  SleepTime  Asthma  KidneyDisease  SkinCancer  \n",
       "0                 0          0        9.0       0              0           0  \n",
       "1                 1          2        6.0       0              0           0  \n",
       "2                 1          2        8.0       0              0           1  \n",
       "3                 0          2        8.0       0              0           0  \n",
       "4                 1          4        7.0       0              0           0  "
      ]
     },
     "execution_count": 26,
     "metadata": {},
     "output_type": "execute_result"
    }
   ],
   "source": [
    "train_df.head()"
   ]
  },
  {
   "cell_type": "code",
   "execution_count": 27,
   "id": "a8b7de34",
   "metadata": {},
   "outputs": [],
   "source": [
    "X_train = train_df.iloc[:, 1:]\n",
    "y_train = train_df.iloc[:, 0]\n",
    "X_validation = validation_df.iloc[:, 1:]\n",
    "y_validation = validation_df.iloc[:, 0]"
   ]
  },
  {
   "cell_type": "code",
   "execution_count": 28,
   "id": "0f06af4d",
   "metadata": {},
   "outputs": [
    {
     "name": "stdout",
     "output_type": "stream",
     "text": [
      "(40939, 17)\n",
      "(40939, 17)\n",
      "(40939, 17)\n",
      "(40939, 17)\n",
      "(40939, 17)\n",
      "(40939, 17)\n",
      "(40939, 17)\n",
      "(40939, 17)\n",
      "(40939, 17)\n",
      "(40939, 17)\n"
     ]
    }
   ],
   "source": [
    "# Split the input data into chunks\n",
    "train_predictions = []\n",
    "for arr in np.array_split(X_train.to_numpy(),10):\n",
    "    result = predictor.predict(arr)\n",
    "    result = result.decode(\"utf-8\")\n",
    "    result = result.split(',')\n",
    "    print (arr.shape)\n",
    "    train_predictions += [float(r) for r in result]"
   ]
  },
  {
   "cell_type": "code",
   "execution_count": 29,
   "id": "96e848e4",
   "metadata": {},
   "outputs": [
    {
     "name": "stdout",
     "output_type": "stream",
     "text": [
      "(17546, 17)\n",
      "(17546, 17)\n",
      "(17546, 17)\n",
      "(17546, 17)\n",
      "(17545, 17)\n",
      "(17545, 17)\n",
      "(17545, 17)\n",
      "(17545, 17)\n",
      "(17545, 17)\n",
      "(17545, 17)\n"
     ]
    }
   ],
   "source": [
    "validation_predictions = []\n",
    "for arr in np.array_split(X_validation.to_numpy(),10):\n",
    "    result = predictor.predict(arr)\n",
    "    result = result.decode(\"utf-8\")\n",
    "    result = result.split(',')\n",
    "    print (arr.shape)\n",
    "    validation_predictions += [float(r) for r in result]"
   ]
  },
  {
   "cell_type": "code",
   "execution_count": 30,
   "id": "320e9716",
   "metadata": {},
   "outputs": [
    {
     "name": "stdout",
     "output_type": "stream",
     "text": [
      "Train Log Loss:  7.976545148353147\n",
      "Validation Log Loss:  8.029194230738419\n"
     ]
    }
   ],
   "source": [
    "print(\"Train Log Loss: \", log_loss(y_train, train_predictions))\n",
    "print(\"Validation Log Loss: \", log_loss(y_validation, validation_predictions))"
   ]
  },
  {
   "cell_type": "code",
   "execution_count": 31,
   "id": "7ab99c5a",
   "metadata": {},
   "outputs": [
    {
     "name": "stdout",
     "output_type": "stream",
     "text": [
      "Train ROC AUC:  0.7690394219495932\n",
      "Validation ROC AUC:  0.7675794767086515\n"
     ]
    }
   ],
   "source": [
    "print(\"Train ROC AUC: \", roc_auc_score(y_train, train_predictions))\n",
    "print(\"Validation ROC AUC: \", roc_auc_score(y_validation, validation_predictions))"
   ]
  },
  {
   "cell_type": "code",
   "execution_count": 32,
   "id": "c746610d",
   "metadata": {},
   "outputs": [
    {
     "name": "stdout",
     "output_type": "stream",
     "text": [
      "              precision    recall  f1-score   support\n",
      "\n",
      "           0       0.81      0.70      0.75     87784\n",
      "           1       0.73      0.84      0.78     87670\n",
      "\n",
      "    accuracy                           0.77    175454\n",
      "   macro avg       0.77      0.77      0.77    175454\n",
      "weighted avg       0.77      0.77      0.77    175454\n",
      "\n"
     ]
    }
   ],
   "source": [
    "print(classification_report(y_validation, validation_predictions))"
   ]
  },
  {
   "cell_type": "markdown",
   "id": "0f29b277",
   "metadata": {},
   "source": [
    "## Batch Transform"
   ]
  },
  {
   "cell_type": "code",
   "execution_count": 4,
   "id": "61868390",
   "metadata": {},
   "outputs": [
    {
     "name": "stdout",
     "output_type": "stream",
     "text": [
      "Using XGBoost Container 683313688378.dkr.ecr.us-east-1.amazonaws.com/sagemaker-xgboost:1.2-2\n"
     ]
    }
   ],
   "source": [
    "sess = sagemaker.Session()\n",
    "role = get_execution_role()\n",
    "container = sagemaker.image_uris.retrieve(\"xgboost\",\n",
    "                                          sess.boto_region_name,\n",
    "                                          version=\"1.2-2\")\n",
    "print(f\"Using XGBoost Container {container}\")"
   ]
  },
  {
   "cell_type": "code",
   "execution_count": 5,
   "id": "332702a2",
   "metadata": {},
   "outputs": [],
   "source": [
    "model_data_path = \"s3://williamli-ml-sagemaker/heart_disease/model/xgboost-heart-disease-v1-2022-04-03-19-48-45-180/output/model.tar.gz\""
   ]
  },
  {
   "cell_type": "code",
   "execution_count": 7,
   "id": "209571a6",
   "metadata": {},
   "outputs": [],
   "source": [
    "trained_model = sagemaker.model.Model(\n",
    "    model_data=model_data_path,\n",
    "    image_uri=container,\n",
    "    role=role)  # your role here; could be different name\n",
    "\n",
    "# trainedmodel.deploy(initial_instance_count=1, instance_type='ml.c4.xlarge')"
   ]
  },
  {
   "cell_type": "code",
   "execution_count": 15,
   "id": "07ee7d55",
   "metadata": {
    "scrolled": false
   },
   "outputs": [
    {
     "name": "stdout",
     "output_type": "stream",
     "text": [
      "........................................\u001b[34m[2022-04-10:20:08:40:INFO] No GPUs detected (normal if no gpus installed)\u001b[0m\n",
      "\u001b[34m[2022-04-10:20:08:40:INFO] No GPUs detected (normal if no gpus installed)\u001b[0m\n",
      "\u001b[34m[2022-04-10:20:08:40:INFO] nginx config: \u001b[0m\n",
      "\u001b[34mworker_processes auto;\u001b[0m\n",
      "\u001b[34mdaemon off;\u001b[0m\n",
      "\u001b[34mpid /tmp/nginx.pid;\u001b[0m\n",
      "\u001b[34merror_log  /dev/stderr;\u001b[0m\n",
      "\u001b[34mworker_rlimit_nofile 4096;\u001b[0m\n",
      "\u001b[34mevents {\n",
      "  worker_connections 2048;\u001b[0m\n",
      "\u001b[34m}\u001b[0m\n",
      "\u001b[34mhttp {\n",
      "  include /etc/nginx/mime.types;\n",
      "  default_type application/octet-stream;\n",
      "  access_log /dev/stdout combined;\n",
      "  upstream gunicorn {\n",
      "    server unix:/tmp/gunicorn.sock;\n",
      "  }\n",
      "  server {\n",
      "    listen 8080 deferred;\n",
      "    client_max_body_size 0;\n",
      "    keepalive_timeout 3;\n",
      "    location ~ ^/(ping|invocations|execution-parameters) {\n",
      "      proxy_set_header X-Forwarded-For $proxy_add_x_forwarded_for;\n",
      "      proxy_set_header Host $http_host;\n",
      "      proxy_redirect off;\n",
      "      proxy_read_timeout 60s;\n",
      "      proxy_pass http://gunicorn;\n",
      "    }\n",
      "    location / {\n",
      "      return 404 \"{}\";\n",
      "    }\n",
      "  }\u001b[0m\n",
      "\u001b[34m}\u001b[0m\n",
      "\u001b[34m[2022-04-10 20:08:40 +0000] [20] [INFO] Starting gunicorn 19.10.0\u001b[0m\n",
      "\u001b[34m[2022-04-10 20:08:40 +0000] [20] [INFO] Listening at: unix:/tmp/gunicorn.sock (20)\u001b[0m\n",
      "\u001b[34m[2022-04-10 20:08:40 +0000] [20] [INFO] Using worker: gevent\u001b[0m\n",
      "\u001b[34m[2022-04-10 20:08:40 +0000] [27] [INFO] Booting worker with pid: 27\u001b[0m\n",
      "\u001b[34m[2022-04-10 20:08:40 +0000] [28] [INFO] Booting worker with pid: 28\u001b[0m\n",
      "\u001b[34m[2022-04-10 20:08:40 +0000] [32] [INFO] Booting worker with pid: 32\u001b[0m\n",
      "\u001b[34m[2022-04-10 20:08:40 +0000] [33] [INFO] Booting worker with pid: 33\u001b[0m\n",
      "\u001b[34m[2022-04-10:20:08:42:INFO] No GPUs detected (normal if no gpus installed)\u001b[0m\n",
      "\u001b[34m[2022-04-10:20:08:42:INFO] Loading the model from /opt/ml/model/xgboost-model\u001b[0m\n",
      "\u001b[34m[2022-04-10:20:08:42:INFO] Model objective : binary:hinge\u001b[0m\n",
      "\u001b[34m[2022-04-10:20:08:42:INFO] No GPUs detected (normal if no gpus installed)\u001b[0m\n",
      "\u001b[34m[2022-04-10:20:08:42:INFO] Loading the model from /opt/ml/model/xgboost-model\u001b[0m\n",
      "\u001b[34m[2022-04-10:20:08:42:INFO] No GPUs detected (normal if no gpus installed)\u001b[0m\n",
      "\u001b[34m[2022-04-10:20:08:42:INFO] Loading the model from /opt/ml/model/xgboost-model\u001b[0m\n",
      "\u001b[34m[2022-04-10:20:08:42:INFO] Model objective : binary:hinge\u001b[0m\n",
      "\u001b[34m[2022-04-10:20:08:42:INFO] Model objective : binary:hinge\u001b[0m\n",
      "\u001b[34m[2022-04-10:20:08:42:INFO] No GPUs detected (normal if no gpus installed)\u001b[0m\n",
      "\u001b[34m[2022-04-10:20:08:42:INFO] Loading the model from /opt/ml/model/xgboost-model\u001b[0m\n",
      "\u001b[34m[2022-04-10:20:08:42:INFO] Model objective : binary:hinge\u001b[0m\n",
      "\u001b[34m[2022-04-10:20:08:46:INFO] No GPUs detected (normal if no gpus installed)\u001b[0m\n",
      "\u001b[34m169.254.255.130 - - [10/Apr/2022:20:08:46 +0000] \"GET /ping HTTP/1.1\" 200 0 \"-\" \"Go-http-client/1.1\"\u001b[0m\n",
      "\u001b[34m169.254.255.130 - - [10/Apr/2022:20:08:46 +0000] \"GET /execution-parameters HTTP/1.1\" 200 84 \"-\" \"Go-http-client/1.1\"\u001b[0m\n",
      "\u001b[32m2022-04-10T20:08:46.653:[sagemaker logs]: MaxConcurrentTransforms=4, MaxPayloadInMB=1, BatchStrategy=MULTI_RECORD\u001b[0m\n",
      "\u001b[32m2022-04-10T20:08:47.168:[sagemaker logs]: williamli-ml-sagemaker/heart_disease/testing/heart_disease_test.csv: Too much data for max payload size\u001b[0m\n",
      "\n"
     ]
    },
    {
     "ename": "UnexpectedStatusException",
     "evalue": "Error for Transform job sagemaker-xgboost-2022-04-10-20-02-09-518: Failed. Reason: ClientError: See job logs for more information",
     "output_type": "error",
     "traceback": [
      "\u001b[0;31m---------------------------------------------------------------------------\u001b[0m",
      "\u001b[0;31mUnexpectedStatusException\u001b[0m                 Traceback (most recent call last)",
      "\u001b[0;32m<ipython-input-15-6a8b0b24fa8e>\u001b[0m in \u001b[0;36m<module>\u001b[0;34m\u001b[0m\n\u001b[1;32m      1\u001b[0m \u001b[0mtest_data_path\u001b[0m \u001b[0;34m=\u001b[0m \u001b[0;34m\"s3://williamli-ml-sagemaker/heart_disease/testing/heart_disease_test.csv\"\u001b[0m\u001b[0;34m\u001b[0m\u001b[0;34m\u001b[0m\u001b[0m\n\u001b[1;32m      2\u001b[0m \u001b[0mtransformer\u001b[0m \u001b[0;34m=\u001b[0m \u001b[0mtrained_model\u001b[0m\u001b[0;34m.\u001b[0m\u001b[0mtransformer\u001b[0m\u001b[0;34m(\u001b[0m\u001b[0minstance_count\u001b[0m\u001b[0;34m=\u001b[0m\u001b[0;36m1\u001b[0m\u001b[0;34m,\u001b[0m \u001b[0minstance_type\u001b[0m\u001b[0;34m=\u001b[0m\u001b[0;34m\"ml.m4.xlarge\"\u001b[0m\u001b[0;34m,\u001b[0m \u001b[0mmax_payload\u001b[0m\u001b[0;34m=\u001b[0m\u001b[0;36m1\u001b[0m\u001b[0;34m)\u001b[0m\u001b[0;34m\u001b[0m\u001b[0;34m\u001b[0m\u001b[0m\n\u001b[0;32m----> 3\u001b[0;31m \u001b[0mtransformer\u001b[0m\u001b[0;34m.\u001b[0m\u001b[0mtransform\u001b[0m\u001b[0;34m(\u001b[0m\u001b[0mtest_data_path\u001b[0m\u001b[0;34m,\u001b[0m \u001b[0mcontent_type\u001b[0m\u001b[0;34m=\u001b[0m\u001b[0;34m\"text/csv\"\u001b[0m\u001b[0;34m)\u001b[0m\u001b[0;34m\u001b[0m\u001b[0;34m\u001b[0m\u001b[0m\n\u001b[0m",
      "\u001b[0;32m~/anaconda3/envs/python3/lib/python3.6/site-packages/sagemaker/transformer.py\u001b[0m in \u001b[0;36mtransform\u001b[0;34m(self, data, data_type, content_type, compression_type, split_type, job_name, input_filter, output_filter, join_source, experiment_config, model_client_config, wait, logs)\u001b[0m\n\u001b[1;32m    223\u001b[0m \u001b[0;34m\u001b[0m\u001b[0m\n\u001b[1;32m    224\u001b[0m         \u001b[0;32mif\u001b[0m \u001b[0mwait\u001b[0m\u001b[0;34m:\u001b[0m\u001b[0;34m\u001b[0m\u001b[0;34m\u001b[0m\u001b[0m\n\u001b[0;32m--> 225\u001b[0;31m             \u001b[0mself\u001b[0m\u001b[0;34m.\u001b[0m\u001b[0mlatest_transform_job\u001b[0m\u001b[0;34m.\u001b[0m\u001b[0mwait\u001b[0m\u001b[0;34m(\u001b[0m\u001b[0mlogs\u001b[0m\u001b[0;34m=\u001b[0m\u001b[0mlogs\u001b[0m\u001b[0;34m)\u001b[0m\u001b[0;34m\u001b[0m\u001b[0;34m\u001b[0m\u001b[0m\n\u001b[0m\u001b[1;32m    226\u001b[0m \u001b[0;34m\u001b[0m\u001b[0m\n\u001b[1;32m    227\u001b[0m     \u001b[0;32mdef\u001b[0m \u001b[0mdelete_model\u001b[0m\u001b[0;34m(\u001b[0m\u001b[0mself\u001b[0m\u001b[0;34m)\u001b[0m\u001b[0;34m:\u001b[0m\u001b[0;34m\u001b[0m\u001b[0;34m\u001b[0m\u001b[0m\n",
      "\u001b[0;32m~/anaconda3/envs/python3/lib/python3.6/site-packages/sagemaker/transformer.py\u001b[0m in \u001b[0;36mwait\u001b[0;34m(self, logs)\u001b[0m\n\u001b[1;32m    419\u001b[0m     \u001b[0;32mdef\u001b[0m \u001b[0mwait\u001b[0m\u001b[0;34m(\u001b[0m\u001b[0mself\u001b[0m\u001b[0;34m,\u001b[0m \u001b[0mlogs\u001b[0m\u001b[0;34m=\u001b[0m\u001b[0;32mTrue\u001b[0m\u001b[0;34m)\u001b[0m\u001b[0;34m:\u001b[0m\u001b[0;34m\u001b[0m\u001b[0;34m\u001b[0m\u001b[0m\n\u001b[1;32m    420\u001b[0m         \u001b[0;32mif\u001b[0m \u001b[0mlogs\u001b[0m\u001b[0;34m:\u001b[0m\u001b[0;34m\u001b[0m\u001b[0;34m\u001b[0m\u001b[0m\n\u001b[0;32m--> 421\u001b[0;31m             \u001b[0mself\u001b[0m\u001b[0;34m.\u001b[0m\u001b[0msagemaker_session\u001b[0m\u001b[0;34m.\u001b[0m\u001b[0mlogs_for_transform_job\u001b[0m\u001b[0;34m(\u001b[0m\u001b[0mself\u001b[0m\u001b[0;34m.\u001b[0m\u001b[0mjob_name\u001b[0m\u001b[0;34m,\u001b[0m \u001b[0mwait\u001b[0m\u001b[0;34m=\u001b[0m\u001b[0;32mTrue\u001b[0m\u001b[0;34m)\u001b[0m\u001b[0;34m\u001b[0m\u001b[0;34m\u001b[0m\u001b[0m\n\u001b[0m\u001b[1;32m    422\u001b[0m         \u001b[0;32melse\u001b[0m\u001b[0;34m:\u001b[0m\u001b[0;34m\u001b[0m\u001b[0;34m\u001b[0m\u001b[0m\n\u001b[1;32m    423\u001b[0m             \u001b[0mself\u001b[0m\u001b[0;34m.\u001b[0m\u001b[0msagemaker_session\u001b[0m\u001b[0;34m.\u001b[0m\u001b[0mwait_for_transform_job\u001b[0m\u001b[0;34m(\u001b[0m\u001b[0mself\u001b[0m\u001b[0;34m.\u001b[0m\u001b[0mjob_name\u001b[0m\u001b[0;34m)\u001b[0m\u001b[0;34m\u001b[0m\u001b[0;34m\u001b[0m\u001b[0m\n",
      "\u001b[0;32m~/anaconda3/envs/python3/lib/python3.6/site-packages/sagemaker/session.py\u001b[0m in \u001b[0;36mlogs_for_transform_job\u001b[0;34m(self, job_name, wait, poll)\u001b[0m\n\u001b[1;32m   3921\u001b[0m \u001b[0;34m\u001b[0m\u001b[0m\n\u001b[1;32m   3922\u001b[0m         \u001b[0;32mif\u001b[0m \u001b[0mwait\u001b[0m\u001b[0;34m:\u001b[0m\u001b[0;34m\u001b[0m\u001b[0;34m\u001b[0m\u001b[0m\n\u001b[0;32m-> 3923\u001b[0;31m             \u001b[0mself\u001b[0m\u001b[0;34m.\u001b[0m\u001b[0m_check_job_status\u001b[0m\u001b[0;34m(\u001b[0m\u001b[0mjob_name\u001b[0m\u001b[0;34m,\u001b[0m \u001b[0mdescription\u001b[0m\u001b[0;34m,\u001b[0m \u001b[0;34m\"TransformJobStatus\"\u001b[0m\u001b[0;34m)\u001b[0m\u001b[0;34m\u001b[0m\u001b[0;34m\u001b[0m\u001b[0m\n\u001b[0m\u001b[1;32m   3924\u001b[0m             \u001b[0;32mif\u001b[0m \u001b[0mdot\u001b[0m\u001b[0;34m:\u001b[0m\u001b[0;34m\u001b[0m\u001b[0;34m\u001b[0m\u001b[0m\n\u001b[1;32m   3925\u001b[0m                 \u001b[0mprint\u001b[0m\u001b[0;34m(\u001b[0m\u001b[0;34m)\u001b[0m\u001b[0;34m\u001b[0m\u001b[0;34m\u001b[0m\u001b[0m\n",
      "\u001b[0;32m~/anaconda3/envs/python3/lib/python3.6/site-packages/sagemaker/session.py\u001b[0m in \u001b[0;36m_check_job_status\u001b[0;34m(self, job, desc, status_key_name)\u001b[0m\n\u001b[1;32m   3304\u001b[0m                 ),\n\u001b[1;32m   3305\u001b[0m                 \u001b[0mallowed_statuses\u001b[0m\u001b[0;34m=\u001b[0m\u001b[0;34m[\u001b[0m\u001b[0;34m\"Completed\"\u001b[0m\u001b[0;34m,\u001b[0m \u001b[0;34m\"Stopped\"\u001b[0m\u001b[0;34m]\u001b[0m\u001b[0;34m,\u001b[0m\u001b[0;34m\u001b[0m\u001b[0;34m\u001b[0m\u001b[0m\n\u001b[0;32m-> 3306\u001b[0;31m                 \u001b[0mactual_status\u001b[0m\u001b[0;34m=\u001b[0m\u001b[0mstatus\u001b[0m\u001b[0;34m,\u001b[0m\u001b[0;34m\u001b[0m\u001b[0;34m\u001b[0m\u001b[0m\n\u001b[0m\u001b[1;32m   3307\u001b[0m             )\n\u001b[1;32m   3308\u001b[0m \u001b[0;34m\u001b[0m\u001b[0m\n",
      "\u001b[0;31mUnexpectedStatusException\u001b[0m: Error for Transform job sagemaker-xgboost-2022-04-10-20-02-09-518: Failed. Reason: ClientError: See job logs for more information"
     ]
    }
   ],
   "source": [
    "test_data_path = \"s3://williamli-ml-sagemaker/heart_disease/testing/heart_disease_test.csv\"\n",
    "transformer = trained_model.transformer(instance_count=1, instance_type=\"ml.m4.xlarge\", max_payload=1)\n",
    "transformer.transform(test_data_path, content_type=\"text/csv\")"
   ]
  },
  {
   "cell_type": "code",
   "execution_count": 12,
   "id": "9414e357",
   "metadata": {},
   "outputs": [
    {
     "name": "stdout",
     "output_type": "stream",
     "text": [
      "s3://sagemaker-us-east-1-432449956699/sagemaker-xgboost-2022-04-10-17-19-48-641\n"
     ]
    }
   ],
   "source": [
    "print(transformer.output_path)"
   ]
  },
  {
   "cell_type": "code",
   "execution_count": null,
   "id": "68c3d776",
   "metadata": {},
   "outputs": [],
   "source": []
  }
 ],
 "metadata": {
  "kernelspec": {
   "display_name": "conda_python3",
   "language": "python",
   "name": "conda_python3"
  },
  "language_info": {
   "codemirror_mode": {
    "name": "ipython",
    "version": 3
   },
   "file_extension": ".py",
   "mimetype": "text/x-python",
   "name": "python",
   "nbconvert_exporter": "python",
   "pygments_lexer": "ipython3",
   "version": "3.6.13"
  }
 },
 "nbformat": 4,
 "nbformat_minor": 5
}
